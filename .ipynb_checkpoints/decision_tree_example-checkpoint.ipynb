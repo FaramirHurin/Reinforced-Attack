{
 "cells": [
  {
   "cell_type": "code",
   "execution_count": null,
   "metadata": {
    "pycharm": {
     "is_executing": true
    }
   },
   "outputs": [],
   "source": [
    "import numpy as np\n",
    "import matplotlib.pyplot as plt\n",
    "from sklearn.tree import DecisionTreeClassifier\n",
    "from sklearn.datasets import make_classification\n",
    "from sklearn.inspection import DecisionBoundaryDisplay"
   ]
  },
  {
   "cell_type": "code",
   "execution_count": null,
   "metadata": {
    "collapsed": false,
    "jupyter": {
     "outputs_hidden": false
    }
   },
   "outputs": [],
   "source": [
    "\n",
    "\n",
    "def generate_data(num_samples=100, noise_level=0.1):\n",
    "    # Generate random features\n",
    "    x1 = np.random.rand(num_samples) * 10  # Feature 1\n",
    "    x2 = np.random.rand(num_samples) * 10  # Feature 2\n",
    "\n",
    "    # Apply simple rules to create labels\n",
    "    y = np.zeros(num_samples)\n",
    "\n",
    "    # Decision boundaries\n",
    "    # Rule 1: if x1 + x2 > 10 then class 1 else class 0\n",
    "    y[(x1 + x2) > 10] = 1\n",
    "    \n",
    "    # Add noise\n",
    "    noise = np.random.normal(0, noise_level, num_samples)\n",
    "    y += noise > 0  # Randomly flip labels based on noise\n",
    "\n",
    "    # Clip labels to be binary\n",
    "    y = np.clip(y, 0, 1)\n",
    "\n",
    "    X = np.array([x1, x2])\n",
    "    X = X.T\n",
    "\n",
    "    return X, y\n"
   ]
  },
  {
   "cell_type": "code",
   "execution_count": null,
   "metadata": {},
   "outputs": [],
   "source": [
    "\n",
    "\n",
    "\n",
    "# Generate data\n",
    "X_total, y_total = generate_data(num_samples=200, noise_level=0.1)\n",
    "\n",
    "\n",
    "X = X_total[:-40]\n",
    "y = y_total[:-40]\n",
    "X_test = X_total[-40:]\n",
    "y_test = y_total[-40:]\n",
    "\n",
    "\n",
    "# Train the decision tree classifier\n",
    "clf = DecisionTreeClassifier(max_depth=2, random_state=0)\n",
    "clf.fit(X, y)\n",
    "\n",
    "# Set up the plot\n",
    "fig, ax = plt.subplots(figsize=(8, 6))\n",
    "plot_colors = ['#FFAAAA', '#AAFFAA']\n",
    "\n",
    "# Plot the decision boundary\n",
    "DecisionBoundaryDisplay.from_estimator(\n",
    "    clf,\n",
    "    X,\n",
    "    cmap=plt.cm.RdYlBu,\n",
    "    response_method=\"predict\",\n",
    "    ax=ax,\n",
    "    xlabel='Feature 1',\n",
    "    ylabel='Feature 2',\n",
    ")\n",
    "\n",
    "# Plot the training points\n",
    "for i, color in zip(range(2), plot_colors):\n",
    "    idx = np.where(y == i)\n",
    "    plt.scatter(\n",
    "        X[idx, 0],\n",
    "        X[idx, 1],\n",
    "        c=color,\n",
    "        label=f'Class {i}',\n",
    "        edgecolor=\"black\",\n",
    "        s=50,\n",
    "    )\n",
    "\n",
    "plt.title(\"Decision surface. Accuracy = \" + str(accuracy_score(y, clf.predict(X))\n",
    "))\n",
    "plt.legend(loc=\"lower right\", borderpad=0, handletextpad=0)\n",
    "plt.axis(\"tight\")\n",
    "plt.show()\n",
    "accuracy_score(y, clf.predict(X))\n",
    "accuracy_score(y, clf.predict(X))\n",
    "\n"
   ]
  },
  {
   "cell_type": "code",
   "execution_count": null,
   "metadata": {},
   "outputs": [],
   "source": [
    "\n",
    "# Set up the plot\n",
    "fig, ax = plt.subplots(figsize=(8, 6))\n",
    "plot_colors = ['#FFAAAA', '#AAFFAA']\n",
    "\n",
    "# Plot the decision boundary\n",
    "DecisionBoundaryDisplay.from_estimator(\n",
    "    clf,\n",
    "    X,\n",
    "    cmap=plt.cm.RdYlBu,\n",
    "    response_method=\"predict\",\n",
    "    ax=ax,\n",
    "    xlabel='Feature 1',\n",
    "    ylabel='Feature 2',\n",
    ")\n",
    "\n",
    "# Plot the training points\n",
    "for i, color in zip(range(2), plot_colors):\n",
    "    idx = np.where(y_test == i)\n",
    "    plt.scatter(\n",
    "        X_test[idx, 0],\n",
    "        X_test[idx, 1],\n",
    "        c=color,\n",
    "        label=f'Class {i}',\n",
    "        edgecolor=\"black\",\n",
    "        s=50,\n",
    "    )\n",
    "\n",
    "plt.title(\"Decision surface. Accuracy = \" + str(accuracy_score(y_test, clf.predict(X_test))\n",
    "))\n",
    "plt.legend(loc=\"lower right\", borderpad=0, handletextpad=0)\n",
    "plt.axis(\"tight\")\n",
    "plt.show()\n",
    "accuracy_score(y, clf.predict(X))\n",
    "\n"
   ]
  },
  {
   "cell_type": "code",
   "execution_count": null,
   "metadata": {},
   "outputs": [],
   "source": []
  },
  {
   "cell_type": "code",
   "execution_count": null,
   "metadata": {},
   "outputs": [],
   "source": []
  }
 ],
 "metadata": {
  "kernelspec": {
   "display_name": "Python 3 (ipykernel)",
   "language": "python",
   "name": "python3"
  },
  "language_info": {
   "codemirror_mode": {
    "name": "ipython",
    "version": 3
   },
   "file_extension": ".py",
   "mimetype": "text/x-python",
   "name": "python",
   "nbconvert_exporter": "python",
   "pygments_lexer": "ipython3",
   "version": "3.10.1"
  }
 },
 "nbformat": 4,
 "nbformat_minor": 4
}
